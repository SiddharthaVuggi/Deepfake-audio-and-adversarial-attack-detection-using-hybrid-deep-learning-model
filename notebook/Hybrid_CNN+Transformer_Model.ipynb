{
 "cells": [
  {
   "cell_type": "code",
   "execution_count": 1,
   "metadata": {},
   "outputs": [],
   "source": [
    "import os  # For interacting with the operating system (file paths, directories)\n",
    "import numpy as np  # For numerical operations and handling arrays\n",
    "import librosa  # For audio processing and feature extraction\n",
    "import librosa.display  # For visualizing audio features\n",
    "import tensorflow as tf  # For deep learning model implementation\n",
    "from tensorflow.keras.layers import (Conv2D, MaxPooling2D, Flatten, Dense, Dropout, \n",
    "                                     Reshape, LayerNormalization, MultiHeadAttention, GlobalAveragePooling1D)\n",
    "from tensorflow.keras.models import Sequential  # For defining sequential models\n",
    "from tensorflow.keras.optimizers import Adam  # Optimizer for training the model\n",
    "from sklearn.model_selection import train_test_split  # For splitting data into training and testing sets\n",
    "from sklearn.preprocessing import LabelEncoder  # For encoding categorical labels\n",
    "from sklearn.metrics import accuracy_score, precision_score, recall_score, f1_score  # For evaluating model performance"
   ]
  },
  {
   "cell_type": "code",
   "execution_count": 2,
   "metadata": {},
   "outputs": [],
   "source": [
    "# Define constants for audio processing\n",
    "AUDIO_SAMPLE_RATE = 22050  # Sampling rate for audio files (default for Librosa)\n",
    "MAX_AUDIO_DURATION = 3  # Maximum duration (in seconds) of each audio clip\n",
    "N_MELS = 128  # Number of Mel frequency bins for spectrogram extraction\n",
    "FRAME_SIZE = 128  # Fixed size for time frames in the spectrogram\n",
    "NUM_CLASSES = 2  # Number of output classes (real or fake audio)"
   ]
  },
  {
   "cell_type": "code",
   "execution_count": 3,
   "metadata": {},
   "outputs": [],
   "source": [
    "# Define dataset directories\n",
    "DATASET_PATH = \"E:/capstone/Deep_Fake/dd_total\"  # Base dataset path\n",
    "REAL_PATH = os.path.join(DATASET_PATH, \"real\")  # Path for real audio files\n",
    "FAKE_PATH = os.path.join(DATASET_PATH, \"fake\")  # Path for fake audio files"
   ]
  },
  {
   "cell_type": "code",
   "execution_count": 4,
   "metadata": {},
   "outputs": [],
   "source": [
    "# Function to extract Mel spectrogram features from an audio file\n",
    "def extract_features(file_path, max_duration=MAX_AUDIO_DURATION, sample_rate=AUDIO_SAMPLE_RATE, n_mels=N_MELS):\n",
    "    try:\n",
    "        # Load the audio file with the specified sample rate and duration\n",
    "        audio, sr = librosa.load(file_path, sr=sample_rate, duration=max_duration)\n",
    "        # Compute the Mel spectrogram\n",
    "        mel_spec = librosa.feature.melspectrogram(y=audio, sr=sr, n_mels=n_mels)\n",
    "        # Convert power spectrogram to decibel scale\n",
    "        mel_spec_db = librosa.power_to_db(mel_spec, ref=np.max)\n",
    "\n",
    "        # Ensure a fixed shape (N_MELS, FRAME_SIZE) by padding or truncating\n",
    "        if mel_spec_db.shape[1] < FRAME_SIZE:\n",
    "            pad_width = FRAME_SIZE - mel_spec_db.shape[1]\n",
    "            mel_spec_db = np.pad(mel_spec_db, ((0, 0), (0, pad_width)), mode='constant')\n",
    "        else:\n",
    "            mel_spec_db = mel_spec_db[:, :FRAME_SIZE]\n",
    "\n",
    "        return mel_spec_db  # Return the processed Mel spectrogram\n",
    "    except Exception as e:\n",
    "        print(f\"Error processing {file_path}: {e}\")  # Print an error message if file processing fails\n",
    "        return None  # Return None if processing fails"
   ]
  },
  {
   "cell_type": "code",
   "execution_count": 5,
   "metadata": {},
   "outputs": [],
   "source": [
    "# Function to load dataset and extract features\n",
    "def load_data():\n",
    "    features, labels = [], []  # Initialize lists for storing features and labels\n",
    "\n",
    "    # Iterate over both real and fake audio directories\n",
    "    for label, path in [(\"real\", REAL_PATH), (\"fake\", FAKE_PATH)]:\n",
    "        for file_name in os.listdir(path):  # Loop through files in the directory\n",
    "            file_path = os.path.join(path, file_name)  # Get full file path\n",
    "            mel_spec = extract_features(file_path)  # Extract features\n",
    "            if mel_spec is not None:\n",
    "                features.append(mel_spec)  # Append extracted features\n",
    "                labels.append(label)  # Append corresponding label\n",
    "\n",
    "    return np.array(features, dtype=np.float32), np.array(labels)  # Convert to NumPy arrays and return\n"
   ]
  },
  {
   "cell_type": "code",
   "execution_count": 6,
   "metadata": {},
   "outputs": [
    {
     "name": "stderr",
     "output_type": "stream",
     "text": [
      "C:\\Users\\vuggi\\AppData\\Local\\Temp\\ipykernel_1680\\2562098333.py:5: UserWarning: PySoundFile failed. Trying audioread instead.\n",
      "  audio, sr = librosa.load(file_path, sr=sample_rate, duration=max_duration)\n",
      "c:\\Users\\vuggi\\anaconda3\\Lib\\site-packages\\librosa\\core\\audio.py:184: FutureWarning: librosa.core.audio.__audioread_load\n",
      "\tDeprecated as of librosa version 0.10.0.\n",
      "\tIt will be removed in librosa version 1.0.\n",
      "  y, sr_native = __audioread_load(path, offset, duration, dtype)\n"
     ]
    },
    {
     "name": "stdout",
     "output_type": "stream",
     "text": [
      "Error processing E:/capstone/Deep_Fake/dd_total\\fake\\file13424.mp3: \n",
      "Error processing E:/capstone/Deep_Fake/dd_total\\fake\\file15746.mp3: \n",
      "Error processing E:/capstone/Deep_Fake/dd_total\\fake\\file16643.mp3: \n",
      "Error processing E:/capstone/Deep_Fake/dd_total\\fake\\file17407.mp3: \n",
      "Error processing E:/capstone/Deep_Fake/dd_total\\fake\\file17450.mp3: \n",
      "Error processing E:/capstone/Deep_Fake/dd_total\\fake\\file19851.mp3: \n",
      "Error processing E:/capstone/Deep_Fake/dd_total\\fake\\file27206.mp3: \n",
      "Error processing E:/capstone/Deep_Fake/dd_total\\fake\\file27643.mp3: \n",
      "Error processing E:/capstone/Deep_Fake/dd_total\\fake\\file27839.mp3: \n",
      "Error processing E:/capstone/Deep_Fake/dd_total\\fake\\file30959.mp3: \n",
      "Error processing E:/capstone/Deep_Fake/dd_total\\fake\\file31017.mp3: \n",
      "Error processing E:/capstone/Deep_Fake/dd_total\\fake\\file32972.mp3: \n",
      "Error processing E:/capstone/Deep_Fake/dd_total\\fake\\file5323.mp3: \n",
      "Error processing E:/capstone/Deep_Fake/dd_total\\fake\\file9875.mp3: \n"
     ]
    }
   ],
   "source": [
    "# Load and preprocess the dataset\n",
    "X, y = load_data()\n",
    "X = np.expand_dims(X, axis=-1)  # Expand dimensions to match CNN input shape (height, width, channels)"
   ]
  },
  {
   "cell_type": "code",
   "execution_count": 7,
   "metadata": {},
   "outputs": [],
   "source": [
    "# Encode class labels into numerical format\n",
    "label_encoder = LabelEncoder()\n",
    "y_encoded = label_encoder.fit_transform(y)  # Convert string labels ('real', 'fake') into integers (0, 1)\n",
    "y_encoded = tf.keras.utils.to_categorical(y_encoded, num_classes=NUM_CLASSES)  # One-hot encode the labels"
   ]
  },
  {
   "cell_type": "code",
   "execution_count": 8,
   "metadata": {},
   "outputs": [],
   "source": [
    "# Split dataset into training and testing sets\n",
    "X_train, X_test, y_train, y_test = train_test_split(X, y_encoded, test_size=0.3, random_state=42)\n"
   ]
  },
  {
   "cell_type": "code",
   "execution_count": 9,
   "metadata": {},
   "outputs": [],
   "source": [
    "# Function to build the CNN-Transformer hybrid model\n",
    "def build_transformer_model(input_shape=(128, 128, 1), num_classes=2):\n",
    "    inputs = Input(shape=input_shape)  # Define input layer\n",
    "\n",
    "    # CNN Feature Extractor\n",
    "    x = Conv2D(32, (3, 3), activation='relu')(inputs)  # Convolutional layer with 32 filters\n",
    "    x = MaxPooling2D((2, 2))(x)  # Max pooling to reduce spatial dimensions\n",
    "    x = Conv2D(64, (3, 3), activation='relu')(x)  # Another convolutional layer with 64 filters\n",
    "    x = MaxPooling2D((2, 2))(x)  # Max pooling again\n",
    "    x = Flatten()(x)  # Flatten feature maps into a 1D array\n",
    "\n",
    "    # Fully connected layer before Transformer\n",
    "    x = Dense(256, activation='relu')(x)\n",
    "    x = Reshape((2, 128))(x)  # Reshape to fit Transformer input format\n",
    "\n",
    "    # Transformer Block\n",
    "    x = LayerNormalization()(x)  # Normalize input for stability\n",
    "    attention_output = MultiHeadAttention(num_heads=4, key_dim=128)(x, x)  # Self-attention mechanism\n",
    "    x = GlobalAveragePooling1D()(attention_output)  # Reduce dimensions\n",
    "\n",
    "    # Fully Connected Layers\n",
    "    x = Dropout(0.3)(x)  # Dropout to prevent overfitting\n",
    "    x = Dense(128, activation='relu')(x)  # Fully connected layer\n",
    "    x = Dropout(0.3)(x)  # Additional dropout layer\n",
    "    outputs = Dense(num_classes, activation='softmax')(x)  # Output layer with softmax activation\n",
    "\n",
    "    # Define and compile the model\n",
    "    model = Model(inputs=inputs, outputs=outputs)\n",
    "    model.compile(optimizer=Adam(learning_rate=0.001), \n",
    "                  loss='categorical_crossentropy', \n",
    "                  metrics=['accuracy'])\n",
    "\n",
    "    return model  # Return the compiled model"
   ]
  },
  {
   "cell_type": "code",
   "execution_count": 10,
   "metadata": {},
   "outputs": [
    {
     "name": "stdout",
     "output_type": "stream",
     "text": [
      "Epoch 1/10\n",
      "\u001b[1m1179/1179\u001b[0m \u001b[32m━━━━━━━━━━━━━━━━━━━━\u001b[0m\u001b[37m\u001b[0m \u001b[1m351s\u001b[0m 291ms/step - accuracy: 0.9178 - loss: 0.1939 - val_accuracy: 0.9936 - val_loss: 0.0221\n",
      "Epoch 2/10\n",
      "\u001b[1m1179/1179\u001b[0m \u001b[32m━━━━━━━━━━━━━━━━━━━━\u001b[0m\u001b[37m\u001b[0m \u001b[1m329s\u001b[0m 279ms/step - accuracy: 0.9919 - loss: 0.0266 - val_accuracy: 0.9906 - val_loss: 0.0380\n",
      "Epoch 3/10\n",
      "\u001b[1m1179/1179\u001b[0m \u001b[32m━━━━━━━━━━━━━━━━━━━━\u001b[0m\u001b[37m\u001b[0m \u001b[1m327s\u001b[0m 277ms/step - accuracy: 0.9953 - loss: 0.0140 - val_accuracy: 0.9967 - val_loss: 0.0096\n",
      "Epoch 4/10\n",
      "\u001b[1m1179/1179\u001b[0m \u001b[32m━━━━━━━━━━━━━━━━━━━━\u001b[0m\u001b[37m\u001b[0m \u001b[1m373s\u001b[0m 316ms/step - accuracy: 0.9975 - loss: 0.0063 - val_accuracy: 0.9983 - val_loss: 0.0071\n",
      "Epoch 5/10\n",
      "\u001b[1m1179/1179\u001b[0m \u001b[32m━━━━━━━━━━━━━━━━━━━━\u001b[0m\u001b[37m\u001b[0m \u001b[1m362s\u001b[0m 307ms/step - accuracy: 0.9982 - loss: 0.0077 - val_accuracy: 0.9847 - val_loss: 0.0558\n",
      "Epoch 6/10\n",
      "\u001b[1m1179/1179\u001b[0m \u001b[32m━━━━━━━━━━━━━━━━━━━━\u001b[0m\u001b[37m\u001b[0m \u001b[1m366s\u001b[0m 311ms/step - accuracy: 0.9984 - loss: 0.0051 - val_accuracy: 0.9963 - val_loss: 0.0103\n",
      "Epoch 7/10\n",
      "\u001b[1m1179/1179\u001b[0m \u001b[32m━━━━━━━━━━━━━━━━━━━━\u001b[0m\u001b[37m\u001b[0m \u001b[1m359s\u001b[0m 304ms/step - accuracy: 0.9994 - loss: 0.0020 - val_accuracy: 0.9985 - val_loss: 0.0043\n",
      "Epoch 8/10\n",
      "\u001b[1m1179/1179\u001b[0m \u001b[32m━━━━━━━━━━━━━━━━━━━━\u001b[0m\u001b[37m\u001b[0m \u001b[1m360s\u001b[0m 305ms/step - accuracy: 0.9979 - loss: 0.0081 - val_accuracy: 0.9985 - val_loss: 0.0070\n",
      "Epoch 9/10\n",
      "\u001b[1m1179/1179\u001b[0m \u001b[32m━━━━━━━━━━━━━━━━━━━━\u001b[0m\u001b[37m\u001b[0m \u001b[1m356s\u001b[0m 301ms/step - accuracy: 0.9975 - loss: 0.0095 - val_accuracy: 0.9981 - val_loss: 0.0076\n",
      "Epoch 10/10\n",
      "\u001b[1m1179/1179\u001b[0m \u001b[32m━━━━━━━━━━━━━━━━━━━━\u001b[0m\u001b[37m\u001b[0m \u001b[1m355s\u001b[0m 301ms/step - accuracy: 0.9981 - loss: 0.0074 - val_accuracy: 0.9989 - val_loss: 0.0043\n"
     ]
    },
    {
     "data": {
      "text/plain": [
       "<keras.src.callbacks.history.History at 0x1ff66cd6a20>"
      ]
     },
     "execution_count": 10,
     "metadata": {},
     "output_type": "execute_result"
    }
   ],
   "source": [
    "# Initialize and train the model\n",
    "from tensorflow.keras.layers import Input, Conv2D, MaxPooling2D, Flatten, Dense, Reshape, LayerNormalization, MultiHeadAttention, GlobalAveragePooling1D, Dropout\n",
    "from tensorflow.keras.models import Model\n",
    "from tensorflow.keras.optimizers import Adam\n",
    "\n",
    "model = build_transformer_model()\n",
    "model.fit(X_train, y_train, epochs=10, batch_size=32, validation_data=(X_test, y_test))\n"
   ]
  },
  {
   "cell_type": "code",
   "execution_count": 11,
   "metadata": {},
   "outputs": [
    {
     "name": "stdout",
     "output_type": "stream",
     "text": [
      "\u001b[1m506/506\u001b[0m \u001b[32m━━━━━━━━━━━━━━━━━━━━\u001b[0m\u001b[37m\u001b[0m \u001b[1m34s\u001b[0m 66ms/step\n"
     ]
    }
   ],
   "source": [
    "# Evaluate the model performance\n",
    "y_pred = model.predict(X_test)\n",
    "y_pred_classes = np.argmax(y_pred, axis=1)  # Convert probabilities to class labels\n",
    "y_true_classes = np.argmax(y_test, axis=1)  # Convert one-hot encoded labels to class labels\n"
   ]
  },
  {
   "cell_type": "code",
   "execution_count": 12,
   "metadata": {},
   "outputs": [],
   "source": [
    "# Calculate evaluation metrics\n",
    "accuracy = accuracy_score(y_true_classes, y_pred_classes)\n",
    "precision = precision_score(y_true_classes, y_pred_classes)\n",
    "recall = recall_score(y_true_classes, y_pred_classes)\n",
    "f1 = f1_score(y_true_classes, y_pred_classes)"
   ]
  },
  {
   "cell_type": "code",
   "execution_count": 16,
   "metadata": {},
   "outputs": [
    {
     "name": "stdout",
     "output_type": "stream",
     "text": [
      "Test Accuracy: 99.89%\n",
      "Precision: 99.91%\n",
      "Recall: 99.88%\n",
      "F1 Score: 99.89%\n",
      "Error Rate: 0.0011\n"
     ]
    }
   ],
   "source": [
    "print(f\"Test Accuracy: {accuracy * 100:.2f}%\")\n",
    "print(f\"Precision: {precision * 100:.2f}%\")\n",
    "print(f\"Recall: {recall * 100:.2f}%\")\n",
    "print(f\"F1 Score: {f1 * 100:.2f}%\")\n",
    "# Error Rate\n",
    "error_rate = 1 - accuracy\n",
    "print(f\"Error Rate: {error_rate:.4f}\")"
   ]
  },
  {
   "cell_type": "code",
   "execution_count": 14,
   "metadata": {},
   "outputs": [
    {
     "name": "stdout",
     "output_type": "stream",
     "text": [
      "\u001b[1m506/506\u001b[0m \u001b[32m━━━━━━━━━━━━━━━━━━━━\u001b[0m\u001b[37m\u001b[0m \u001b[1m31s\u001b[0m 61ms/step\n"
     ]
    },
    {
     "data": {
      "image/png": "[encoded data removed]",
      "text/plain": [
       "<Figure size 600x500 with 2 Axes>"
      ]
     },
     "metadata": {},
     "output_type": "display_data"
    },
    {
     "name": "stdout",
     "output_type": "stream",
     "text": [
      "Classification Report:\n",
      "               precision    recall  f1-score   support\n",
      "\n",
      "        Fake       1.00      1.00      1.00      8089\n",
      "        Real       1.00      1.00      1.00      8072\n",
      "\n",
      "    accuracy                           1.00     16161\n",
      "   macro avg       1.00      1.00      1.00     16161\n",
      "weighted avg       1.00      1.00      1.00     16161\n",
      "\n"
     ]
    }
   ],
   "source": [
    "from sklearn.metrics import classification_report, confusion_matrix\n",
    "import numpy as np\n",
    "import matplotlib.pyplot as plt\n",
    "import seaborn as sns\n",
    "\n",
    "# Get model predictions\n",
    "y_pred = model.predict(X_test)\n",
    "y_pred = np.argmax(y_pred, axis=1)  # Convert probabilities to class labels\n",
    "y_true = np.argmax(y_test, axis=1)  # Convert one-hot encoded labels to class labels\n",
    "\n",
    "# Compute Confusion Matrix\n",
    "conf_matrix = confusion_matrix(y_true, y_pred)\n",
    "\n",
    "# Plot Confusion Matrix\n",
    "plt.figure(figsize=(6, 5))\n",
    "sns.heatmap(conf_matrix, annot=True, fmt=\"d\", cmap=\"Blues\", xticklabels=[\"Fake\", \"Real\"], yticklabels=[\"Fake\", \"Real\"])\n",
    "plt.xlabel(\"Predicted Label\")\n",
    "plt.ylabel(\"True Label\")\n",
    "plt.title(\"Confusion Matrix\")\n",
    "plt.show()\n",
    "\n",
    "# Print Classification Report\n",
    "print(\"Classification Report:\\n\", classification_report(y_true, y_pred, target_names=[\"Fake\", \"Real\"]))\n"
   ]
  },
  {
   "cell_type": "code",
   "execution_count": 15,
   "metadata": {},
   "outputs": [
    {
     "name": "stderr",
     "output_type": "stream",
     "text": [
      "WARNING:absl:You are saving your model as an HDF5 file via `model.save()` or `keras.saving.save_model(model)`. This file format is considered legacy. We recommend using instead the native Keras format, e.g. `model.save('my_model.keras')` or `keras.saving.save_model(model, 'my_model.keras')`. \n"
     ]
    },
    {
     "name": "stdout",
     "output_type": "stream",
     "text": [
      "Model saved as audio_classification_model.h5\n"
     ]
    }
   ],
   "source": [
    "model.save(\"audio_classification_model.h5\")\n",
    "print(\"Model saved as audio_classification_model.h5\")"
   ]
  }
 ],
 "metadata": {
  "kernelspec": {
   "display_name": "base",
   "language": "python",
   "name": "python3"
  },
  "language_info": {
   "codemirror_mode": {
    "name": "ipython",
    "version": 3
   },
   "file_extension": ".py",
   "mimetype": "text/x-python",
   "name": "python",
   "nbconvert_exporter": "python",
   "pygments_lexer": "ipython3",
   "version": "3.12.3"
  }
 },
 "nbformat": 4,
 "nbformat_minor": 2
}
